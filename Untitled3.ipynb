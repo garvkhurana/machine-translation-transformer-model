{
 "cells": [
  {
   "cell_type": "code",
   "execution_count": 1,
   "id": "13447a6e-c05c-4e63-817d-3f49cc6fd6c2",
   "metadata": {},
   "outputs": [],
   "source": [
    "import pandas as pd\n",
    "import warnings\n",
    "warnings.filterwarnings('ignore')\n",
    "english_df=pd.read_table(r\"C:\\Users\\Garv Khurana\\OneDrive\\Desktop\\NLLB.en-pa.en\",names=[\"english\"])"
   ]
  },
  {
   "cell_type": "code",
   "execution_count": 2,
   "id": "c684b53e-b0fd-4e34-90ec-b4e4fc41dc60",
   "metadata": {},
   "outputs": [],
   "source": [
    "punjabi_df=pd.read_table(r\"C:\\Users\\Garv Khurana\\OneDrive\\Desktop\\NLLB.en-pa.pa\", engine=\"python\", names=[\"punjabi\"],on_bad_lines=\"skip\")"
   ]
  },
  {
   "cell_type": "code",
   "execution_count": 3,
   "id": "0c893cd8-8e68-42fa-8084-16e6c34c158f",
   "metadata": {},
   "outputs": [],
   "source": [
    "if len(english_df) > len(punjabi_df):\n",
    "    punjabi_df = punjabi_df.reindex(english_df.index)\n",
    "else:\n",
    "    english_df = english_df.reindex(punjabi_df.index)"
   ]
  },
  {
   "cell_type": "code",
   "execution_count": 4,
   "id": "b13e0b08-8002-4b83-9f6b-d90c3f107322",
   "metadata": {},
   "outputs": [
    {
     "data": {
      "text/html": [
       "<div>\n",
       "<style scoped>\n",
       "    .dataframe tbody tr th:only-of-type {\n",
       "        vertical-align: middle;\n",
       "    }\n",
       "\n",
       "    .dataframe tbody tr th {\n",
       "        vertical-align: top;\n",
       "    }\n",
       "\n",
       "    .dataframe thead th {\n",
       "        text-align: right;\n",
       "    }\n",
       "</style>\n",
       "<table border=\"1\" class=\"dataframe\">\n",
       "  <thead>\n",
       "    <tr style=\"text-align: right;\">\n",
       "      <th></th>\n",
       "      <th>english</th>\n",
       "      <th>punjabi</th>\n",
       "    </tr>\n",
       "  </thead>\n",
       "  <tbody>\n",
       "    <tr>\n",
       "      <th>0</th>\n",
       "      <td>And Our Command is but a single (Act),- like t...</td>\n",
       "      <td>(ਅਤੇ) ਸਾਡਾ (ਕਿਸੇ ਪ੍ਰਕਾਰ ਦਾ ਕੋਈ) ਗੁਣ (ਜਾਂ) ਔਗੁਣ...</td>\n",
       "    </tr>\n",
       "    <tr>\n",
       "      <th>1</th>\n",
       "      <td>He will be peaceful until the day when he dies!\"</td>\n",
       "      <td>(ਇਹ ਹਰਿ-ਨਾਮ) ਤੇਰੇ ਨਾਲ ਸਦਾ ਸਾਥ ਬਣਾਈ ਰੱਖੇਗਾ ॥</td>\n",
       "    </tr>\n",
       "    <tr>\n",
       "      <th>2</th>\n",
       "      <td>Behold, this is the Word that distinguishes (G...</td>\n",
       "      <td>(ਦੁੱਖਾਂ ਕਲੇਸ਼ਾਂ ਤੋਂ) ਬਚਣ ਦਾ ਇਹੀ ਪੱਕਾ ਵਸੀਲਾ ਹੈ ॥</td>\n",
       "    </tr>\n",
       "    <tr>\n",
       "      <th>3</th>\n",
       "      <td>But Iblis (did it not); he refused to be with ...</td>\n",
       "      <td>ਆਖ ਕਿ ਜਿਸ (ਜੀਵ ਇਸਤਰੀ) ਦੇ ਮੱਥੇ ਉਤੇ ਭਾਗ (ਲਿਖਿਆ ਹ...</td>\n",
       "    </tr>\n",
       "    <tr>\n",
       "      <th>4</th>\n",
       "      <td>This is the condition of those who belied Our ...</td>\n",
       "      <td>ਪਰ ਅਜ਼ਰਾਈਲ ਨ ਸਾਰਾਂ, ਮੂਲੇ ਲੱਧੀਆਂ।</td>\n",
       "    </tr>\n",
       "    <tr>\n",
       "      <th>...</th>\n",
       "      <td>...</td>\n",
       "      <td>...</td>\n",
       "    </tr>\n",
       "    <tr>\n",
       "      <th>9749137</th>\n",
       "      <td>to form an LLC.</td>\n",
       "      <td>NaN</td>\n",
       "    </tr>\n",
       "    <tr>\n",
       "      <th>9749138</th>\n",
       "      <td>triangles, head &amp; shoulders,</td>\n",
       "      <td>NaN</td>\n",
       "    </tr>\n",
       "    <tr>\n",
       "      <th>9749139</th>\n",
       "      <td>where the person is resident in India</td>\n",
       "      <td>NaN</td>\n",
       "    </tr>\n",
       "    <tr>\n",
       "      <th>9749140</th>\n",
       "      <td>• Apprehend shoplifters in accordance with gui...</td>\n",
       "      <td>NaN</td>\n",
       "    </tr>\n",
       "    <tr>\n",
       "      <th>9749141</th>\n",
       "      <td>• Cuts the consumption of chemicals by up to 50%</td>\n",
       "      <td>NaN</td>\n",
       "    </tr>\n",
       "  </tbody>\n",
       "</table>\n",
       "<p>9749142 rows × 2 columns</p>\n",
       "</div>"
      ],
      "text/plain": [
       "                                                   english  \\\n",
       "0        And Our Command is but a single (Act),- like t...   \n",
       "1         He will be peaceful until the day when he dies!\"   \n",
       "2        Behold, this is the Word that distinguishes (G...   \n",
       "3        But Iblis (did it not); he refused to be with ...   \n",
       "4        This is the condition of those who belied Our ...   \n",
       "...                                                    ...   \n",
       "9749137                                    to form an LLC.   \n",
       "9749138                       triangles, head & shoulders,   \n",
       "9749139              where the person is resident in India   \n",
       "9749140  • Apprehend shoplifters in accordance with gui...   \n",
       "9749141   • Cuts the consumption of chemicals by up to 50%   \n",
       "\n",
       "                                                   punjabi  \n",
       "0        (ਅਤੇ) ਸਾਡਾ (ਕਿਸੇ ਪ੍ਰਕਾਰ ਦਾ ਕੋਈ) ਗੁਣ (ਜਾਂ) ਔਗੁਣ...  \n",
       "1              (ਇਹ ਹਰਿ-ਨਾਮ) ਤੇਰੇ ਨਾਲ ਸਦਾ ਸਾਥ ਬਣਾਈ ਰੱਖੇਗਾ ॥  \n",
       "2          (ਦੁੱਖਾਂ ਕਲੇਸ਼ਾਂ ਤੋਂ) ਬਚਣ ਦਾ ਇਹੀ ਪੱਕਾ ਵਸੀਲਾ ਹੈ ॥  \n",
       "3        ਆਖ ਕਿ ਜਿਸ (ਜੀਵ ਇਸਤਰੀ) ਦੇ ਮੱਥੇ ਉਤੇ ਭਾਗ (ਲਿਖਿਆ ਹ...  \n",
       "4                         ਪਰ ਅਜ਼ਰਾਈਲ ਨ ਸਾਰਾਂ, ਮੂਲੇ ਲੱਧੀਆਂ।  \n",
       "...                                                    ...  \n",
       "9749137                                                NaN  \n",
       "9749138                                                NaN  \n",
       "9749139                                                NaN  \n",
       "9749140                                                NaN  \n",
       "9749141                                                NaN  \n",
       "\n",
       "[9749142 rows x 2 columns]"
      ]
     },
     "execution_count": 4,
     "metadata": {},
     "output_type": "execute_result"
    }
   ],
   "source": [
    "df = pd.concat([english_df, punjabi_df], axis=1)\n",
    "df"
   ]
  },
  {
   "cell_type": "code",
   "execution_count": 5,
   "id": "12a5e345-a95e-488d-a0d0-7512dd0079b7",
   "metadata": {},
   "outputs": [
    {
     "name": "stdout",
     "output_type": "stream",
     "text": [
      "                                                   english  \\\n",
      "0        And Our Command is but a single (Act),- like t...   \n",
      "1         He will be peaceful until the day when he dies!\"   \n",
      "2        Behold, this is the Word that distinguishes (G...   \n",
      "3        But Iblis (did it not); he refused to be with ...   \n",
      "4        This is the condition of those who belied Our ...   \n",
      "...                                                    ...   \n",
      "8381220  Wikimedia Commons has media related to Univers...   \n",
      "8381221  Yamaha MT-03 (naked R3) to be launched soon in...   \n",
      "8381222                              Yes it is a priority.   \n",
      "8381223  You can also try doing a general search for th...   \n",
      "8381224  You can unsubscribe at any time, but you can n...   \n",
      "\n",
      "                                                   punjabi  \n",
      "0        (ਅਤੇ) ਸਾਡਾ (ਕਿਸੇ ਪ੍ਰਕਾਰ ਦਾ ਕੋਈ) ਗੁਣ (ਜਾਂ) ਔਗੁਣ...  \n",
      "1              (ਇਹ ਹਰਿ-ਨਾਮ) ਤੇਰੇ ਨਾਲ ਸਦਾ ਸਾਥ ਬਣਾਈ ਰੱਖੇਗਾ ॥  \n",
      "2          (ਦੁੱਖਾਂ ਕਲੇਸ਼ਾਂ ਤੋਂ) ਬਚਣ ਦਾ ਇਹੀ ਪੱਕਾ ਵਸੀਲਾ ਹੈ ॥  \n",
      "3        ਆਖ ਕਿ ਜਿਸ (ਜੀਵ ਇਸਤਰੀ) ਦੇ ਮੱਥੇ ਉਤੇ ਭਾਗ (ਲਿਖਿਆ ਹ...  \n",
      "4                         ਪਰ ਅਜ਼ਰਾਈਲ ਨ ਸਾਰਾਂ, ਮੂਲੇ ਲੱਧੀਆਂ।  \n",
      "...                                                    ...  \n",
      "8381220  ਵਿਦੇਸ਼ਾਂ ਵਿਚ ਵਸਦਿਆਂ ਤਾਂ ਮੇਰੀਆਂ ਪੰਜਾਬ ਫੇਰੀਆਂ ਲਗ...  \n",
      "8381221     ਨਸੀਬ ਸੋਚੀਂ ਪੈ ਗਈ ਕਿ ਇਹ ਸੱਭ ਕਿਵੇਂ ਹੱਲ ਹੋ ਸਕੇਗਾ?  \n",
      "8381222  ਇਨ੍ਹਾਂ ਨੂੰ ਦੇਖਣ ਵਾਲੇ ਯੂਨਾਨੀਆਂ ਨੇ ਇਨ੍ਹਾਂ ਦਾ ਵਰਣ...  \n",
      "8381223                 ਇਸ ਦੋ ਨੈਟਵਰਕਸ ਤੇ ਤੁਸੀਂ ਕਰ ਸਕਦੇ ਹੋਃ  \n",
      "8381224      ਅਤੇ ਸਮਝ ਆਉਣ ਤੇ \"ਸਮਾਂ\" ਬੀਤ ਗਿਆ ਹੁੰਦਾ ਹੈ. . . !  \n",
      "\n",
      "[8381225 rows x 2 columns]\n"
     ]
    }
   ],
   "source": [
    "df=df.dropna()\n",
    "print(df)"
   ]
  },
  {
   "cell_type": "code",
   "execution_count": 6,
   "id": "9e75e900-ac28-4aa5-9577-6337a7b31d04",
   "metadata": {},
   "outputs": [
    {
     "data": {
      "text/html": [
       "<div>\n",
       "<style scoped>\n",
       "    .dataframe tbody tr th:only-of-type {\n",
       "        vertical-align: middle;\n",
       "    }\n",
       "\n",
       "    .dataframe tbody tr th {\n",
       "        vertical-align: top;\n",
       "    }\n",
       "\n",
       "    .dataframe thead th {\n",
       "        text-align: right;\n",
       "    }\n",
       "</style>\n",
       "<table border=\"1\" class=\"dataframe\">\n",
       "  <thead>\n",
       "    <tr style=\"text-align: right;\">\n",
       "      <th></th>\n",
       "      <th>english</th>\n",
       "      <th>punjabi</th>\n",
       "    </tr>\n",
       "  </thead>\n",
       "  <tbody>\n",
       "    <tr>\n",
       "      <th>0</th>\n",
       "      <td>And Our Command is but a single (Act),- like t...</td>\n",
       "      <td>(ਅਤੇ) ਸਾਡਾ (ਕਿਸੇ ਪ੍ਰਕਾਰ ਦਾ ਕੋਈ) ਗੁਣ (ਜਾਂ) ਔਗੁਣ...</td>\n",
       "    </tr>\n",
       "    <tr>\n",
       "      <th>1</th>\n",
       "      <td>He will be peaceful until the day when he dies!\"</td>\n",
       "      <td>(ਇਹ ਹਰਿ-ਨਾਮ) ਤੇਰੇ ਨਾਲ ਸਦਾ ਸਾਥ ਬਣਾਈ ਰੱਖੇਗਾ ॥</td>\n",
       "    </tr>\n",
       "    <tr>\n",
       "      <th>2</th>\n",
       "      <td>Behold, this is the Word that distinguishes (G...</td>\n",
       "      <td>(ਦੁੱਖਾਂ ਕਲੇਸ਼ਾਂ ਤੋਂ) ਬਚਣ ਦਾ ਇਹੀ ਪੱਕਾ ਵਸੀਲਾ ਹੈ ॥</td>\n",
       "    </tr>\n",
       "    <tr>\n",
       "      <th>3</th>\n",
       "      <td>But Iblis (did it not); he refused to be with ...</td>\n",
       "      <td>ਆਖ ਕਿ ਜਿਸ (ਜੀਵ ਇਸਤਰੀ) ਦੇ ਮੱਥੇ ਉਤੇ ਭਾਗ (ਲਿਖਿਆ ਹ...</td>\n",
       "    </tr>\n",
       "    <tr>\n",
       "      <th>4</th>\n",
       "      <td>This is the condition of those who belied Our ...</td>\n",
       "      <td>ਪਰ ਅਜ਼ਰਾਈਲ ਨ ਸਾਰਾਂ, ਮੂਲੇ ਲੱਧੀਆਂ।</td>\n",
       "    </tr>\n",
       "    <tr>\n",
       "      <th>...</th>\n",
       "      <td>...</td>\n",
       "      <td>...</td>\n",
       "    </tr>\n",
       "    <tr>\n",
       "      <th>8381220</th>\n",
       "      <td>Wikimedia Commons has media related to Univers...</td>\n",
       "      <td>ਵਿਦੇਸ਼ਾਂ ਵਿਚ ਵਸਦਿਆਂ ਤਾਂ ਮੇਰੀਆਂ ਪੰਜਾਬ ਫੇਰੀਆਂ ਲਗ...</td>\n",
       "    </tr>\n",
       "    <tr>\n",
       "      <th>8381221</th>\n",
       "      <td>Yamaha MT-03 (naked R3) to be launched soon in...</td>\n",
       "      <td>ਨਸੀਬ ਸੋਚੀਂ ਪੈ ਗਈ ਕਿ ਇਹ ਸੱਭ ਕਿਵੇਂ ਹੱਲ ਹੋ ਸਕੇਗਾ?</td>\n",
       "    </tr>\n",
       "    <tr>\n",
       "      <th>8381222</th>\n",
       "      <td>Yes it is a priority.</td>\n",
       "      <td>ਇਨ੍ਹਾਂ ਨੂੰ ਦੇਖਣ ਵਾਲੇ ਯੂਨਾਨੀਆਂ ਨੇ ਇਨ੍ਹਾਂ ਦਾ ਵਰਣ...</td>\n",
       "    </tr>\n",
       "    <tr>\n",
       "      <th>8381223</th>\n",
       "      <td>You can also try doing a general search for th...</td>\n",
       "      <td>ਇਸ ਦੋ ਨੈਟਵਰਕਸ ਤੇ ਤੁਸੀਂ ਕਰ ਸਕਦੇ ਹੋਃ</td>\n",
       "    </tr>\n",
       "    <tr>\n",
       "      <th>8381224</th>\n",
       "      <td>You can unsubscribe at any time, but you can n...</td>\n",
       "      <td>ਅਤੇ ਸਮਝ ਆਉਣ ਤੇ \"ਸਮਾਂ\" ਬੀਤ ਗਿਆ ਹੁੰਦਾ ਹੈ. . . !</td>\n",
       "    </tr>\n",
       "  </tbody>\n",
       "</table>\n",
       "<p>8381225 rows × 2 columns</p>\n",
       "</div>"
      ],
      "text/plain": [
       "                                                   english  \\\n",
       "0        And Our Command is but a single (Act),- like t...   \n",
       "1         He will be peaceful until the day when he dies!\"   \n",
       "2        Behold, this is the Word that distinguishes (G...   \n",
       "3        But Iblis (did it not); he refused to be with ...   \n",
       "4        This is the condition of those who belied Our ...   \n",
       "...                                                    ...   \n",
       "8381220  Wikimedia Commons has media related to Univers...   \n",
       "8381221  Yamaha MT-03 (naked R3) to be launched soon in...   \n",
       "8381222                              Yes it is a priority.   \n",
       "8381223  You can also try doing a general search for th...   \n",
       "8381224  You can unsubscribe at any time, but you can n...   \n",
       "\n",
       "                                                   punjabi  \n",
       "0        (ਅਤੇ) ਸਾਡਾ (ਕਿਸੇ ਪ੍ਰਕਾਰ ਦਾ ਕੋਈ) ਗੁਣ (ਜਾਂ) ਔਗੁਣ...  \n",
       "1              (ਇਹ ਹਰਿ-ਨਾਮ) ਤੇਰੇ ਨਾਲ ਸਦਾ ਸਾਥ ਬਣਾਈ ਰੱਖੇਗਾ ॥  \n",
       "2          (ਦੁੱਖਾਂ ਕਲੇਸ਼ਾਂ ਤੋਂ) ਬਚਣ ਦਾ ਇਹੀ ਪੱਕਾ ਵਸੀਲਾ ਹੈ ॥  \n",
       "3        ਆਖ ਕਿ ਜਿਸ (ਜੀਵ ਇਸਤਰੀ) ਦੇ ਮੱਥੇ ਉਤੇ ਭਾਗ (ਲਿਖਿਆ ਹ...  \n",
       "4                         ਪਰ ਅਜ਼ਰਾਈਲ ਨ ਸਾਰਾਂ, ਮੂਲੇ ਲੱਧੀਆਂ।  \n",
       "...                                                    ...  \n",
       "8381220  ਵਿਦੇਸ਼ਾਂ ਵਿਚ ਵਸਦਿਆਂ ਤਾਂ ਮੇਰੀਆਂ ਪੰਜਾਬ ਫੇਰੀਆਂ ਲਗ...  \n",
       "8381221     ਨਸੀਬ ਸੋਚੀਂ ਪੈ ਗਈ ਕਿ ਇਹ ਸੱਭ ਕਿਵੇਂ ਹੱਲ ਹੋ ਸਕੇਗਾ?  \n",
       "8381222  ਇਨ੍ਹਾਂ ਨੂੰ ਦੇਖਣ ਵਾਲੇ ਯੂਨਾਨੀਆਂ ਨੇ ਇਨ੍ਹਾਂ ਦਾ ਵਰਣ...  \n",
       "8381223                 ਇਸ ਦੋ ਨੈਟਵਰਕਸ ਤੇ ਤੁਸੀਂ ਕਰ ਸਕਦੇ ਹੋਃ  \n",
       "8381224      ਅਤੇ ਸਮਝ ਆਉਣ ਤੇ \"ਸਮਾਂ\" ਬੀਤ ਗਿਆ ਹੁੰਦਾ ਹੈ. . . !  \n",
       "\n",
       "[8381225 rows x 2 columns]"
      ]
     },
     "execution_count": 6,
     "metadata": {},
     "output_type": "execute_result"
    }
   ],
   "source": [
    "df"
   ]
  },
  {
   "cell_type": "code",
   "execution_count": 7,
   "id": "b3567ea3-9232-4384-ac94-590d0232790c",
   "metadata": {},
   "outputs": [],
   "source": [
    "df[\"punjabi\"]=df[\"punjabi\"].apply(lambda x: f\"<start>{x}<end>\")\n"
   ]
  },
  {
   "cell_type": "code",
   "execution_count": 8,
   "id": "41c0d3f6-a247-4c8b-bd30-3bed0151883d",
   "metadata": {},
   "outputs": [
    {
     "data": {
      "text/html": [
       "<div>\n",
       "<style scoped>\n",
       "    .dataframe tbody tr th:only-of-type {\n",
       "        vertical-align: middle;\n",
       "    }\n",
       "\n",
       "    .dataframe tbody tr th {\n",
       "        vertical-align: top;\n",
       "    }\n",
       "\n",
       "    .dataframe thead th {\n",
       "        text-align: right;\n",
       "    }\n",
       "</style>\n",
       "<table border=\"1\" class=\"dataframe\">\n",
       "  <thead>\n",
       "    <tr style=\"text-align: right;\">\n",
       "      <th></th>\n",
       "      <th>english</th>\n",
       "      <th>punjabi</th>\n",
       "    </tr>\n",
       "  </thead>\n",
       "  <tbody>\n",
       "    <tr>\n",
       "      <th>0</th>\n",
       "      <td>And Our Command is but a single (Act),- like t...</td>\n",
       "      <td>&lt;start&gt;(ਅਤੇ) ਸਾਡਾ (ਕਿਸੇ ਪ੍ਰਕਾਰ ਦਾ ਕੋਈ) ਗੁਣ (ਜਾ...</td>\n",
       "    </tr>\n",
       "    <tr>\n",
       "      <th>1</th>\n",
       "      <td>He will be peaceful until the day when he dies!\"</td>\n",
       "      <td>&lt;start&gt;(ਇਹ ਹਰਿ-ਨਾਮ) ਤੇਰੇ ਨਾਲ ਸਦਾ ਸਾਥ ਬਣਾਈ ਰੱਖੇ...</td>\n",
       "    </tr>\n",
       "    <tr>\n",
       "      <th>2</th>\n",
       "      <td>Behold, this is the Word that distinguishes (G...</td>\n",
       "      <td>&lt;start&gt;(ਦੁੱਖਾਂ ਕਲੇਸ਼ਾਂ ਤੋਂ) ਬਚਣ ਦਾ ਇਹੀ ਪੱਕਾ ਵਸ...</td>\n",
       "    </tr>\n",
       "    <tr>\n",
       "      <th>3</th>\n",
       "      <td>But Iblis (did it not); he refused to be with ...</td>\n",
       "      <td>&lt;start&gt;ਆਖ ਕਿ ਜਿਸ (ਜੀਵ ਇਸਤਰੀ) ਦੇ ਮੱਥੇ ਉਤੇ ਭਾਗ (...</td>\n",
       "    </tr>\n",
       "    <tr>\n",
       "      <th>4</th>\n",
       "      <td>This is the condition of those who belied Our ...</td>\n",
       "      <td>&lt;start&gt;ਪਰ ਅਜ਼ਰਾਈਲ ਨ ਸਾਰਾਂ, ਮੂਲੇ ਲੱਧੀਆਂ।&lt;end&gt;</td>\n",
       "    </tr>\n",
       "    <tr>\n",
       "      <th>...</th>\n",
       "      <td>...</td>\n",
       "      <td>...</td>\n",
       "    </tr>\n",
       "    <tr>\n",
       "      <th>8381220</th>\n",
       "      <td>Wikimedia Commons has media related to Univers...</td>\n",
       "      <td>&lt;start&gt;ਵਿਦੇਸ਼ਾਂ ਵਿਚ ਵਸਦਿਆਂ ਤਾਂ ਮੇਰੀਆਂ ਪੰਜਾਬ ਫੇ...</td>\n",
       "    </tr>\n",
       "    <tr>\n",
       "      <th>8381221</th>\n",
       "      <td>Yamaha MT-03 (naked R3) to be launched soon in...</td>\n",
       "      <td>&lt;start&gt;ਨਸੀਬ ਸੋਚੀਂ ਪੈ ਗਈ ਕਿ ਇਹ ਸੱਭ ਕਿਵੇਂ ਹੱਲ ਹੋ...</td>\n",
       "    </tr>\n",
       "    <tr>\n",
       "      <th>8381222</th>\n",
       "      <td>Yes it is a priority.</td>\n",
       "      <td>&lt;start&gt;ਇਨ੍ਹਾਂ ਨੂੰ ਦੇਖਣ ਵਾਲੇ ਯੂਨਾਨੀਆਂ ਨੇ ਇਨ੍ਹਾਂ...</td>\n",
       "    </tr>\n",
       "    <tr>\n",
       "      <th>8381223</th>\n",
       "      <td>You can also try doing a general search for th...</td>\n",
       "      <td>&lt;start&gt;ਇਸ ਦੋ ਨੈਟਵਰਕਸ ਤੇ ਤੁਸੀਂ ਕਰ ਸਕਦੇ ਹੋਃ&lt;end&gt;</td>\n",
       "    </tr>\n",
       "    <tr>\n",
       "      <th>8381224</th>\n",
       "      <td>You can unsubscribe at any time, but you can n...</td>\n",
       "      <td>&lt;start&gt;ਅਤੇ ਸਮਝ ਆਉਣ ਤੇ \"ਸਮਾਂ\" ਬੀਤ ਗਿਆ ਹੁੰਦਾ ਹੈ....</td>\n",
       "    </tr>\n",
       "  </tbody>\n",
       "</table>\n",
       "<p>8381225 rows × 2 columns</p>\n",
       "</div>"
      ],
      "text/plain": [
       "                                                   english  \\\n",
       "0        And Our Command is but a single (Act),- like t...   \n",
       "1         He will be peaceful until the day when he dies!\"   \n",
       "2        Behold, this is the Word that distinguishes (G...   \n",
       "3        But Iblis (did it not); he refused to be with ...   \n",
       "4        This is the condition of those who belied Our ...   \n",
       "...                                                    ...   \n",
       "8381220  Wikimedia Commons has media related to Univers...   \n",
       "8381221  Yamaha MT-03 (naked R3) to be launched soon in...   \n",
       "8381222                              Yes it is a priority.   \n",
       "8381223  You can also try doing a general search for th...   \n",
       "8381224  You can unsubscribe at any time, but you can n...   \n",
       "\n",
       "                                                   punjabi  \n",
       "0        <start>(ਅਤੇ) ਸਾਡਾ (ਕਿਸੇ ਪ੍ਰਕਾਰ ਦਾ ਕੋਈ) ਗੁਣ (ਜਾ...  \n",
       "1        <start>(ਇਹ ਹਰਿ-ਨਾਮ) ਤੇਰੇ ਨਾਲ ਸਦਾ ਸਾਥ ਬਣਾਈ ਰੱਖੇ...  \n",
       "2        <start>(ਦੁੱਖਾਂ ਕਲੇਸ਼ਾਂ ਤੋਂ) ਬਚਣ ਦਾ ਇਹੀ ਪੱਕਾ ਵਸ...  \n",
       "3        <start>ਆਖ ਕਿ ਜਿਸ (ਜੀਵ ਇਸਤਰੀ) ਦੇ ਮੱਥੇ ਉਤੇ ਭਾਗ (...  \n",
       "4             <start>ਪਰ ਅਜ਼ਰਾਈਲ ਨ ਸਾਰਾਂ, ਮੂਲੇ ਲੱਧੀਆਂ।<end>  \n",
       "...                                                    ...  \n",
       "8381220  <start>ਵਿਦੇਸ਼ਾਂ ਵਿਚ ਵਸਦਿਆਂ ਤਾਂ ਮੇਰੀਆਂ ਪੰਜਾਬ ਫੇ...  \n",
       "8381221  <start>ਨਸੀਬ ਸੋਚੀਂ ਪੈ ਗਈ ਕਿ ਇਹ ਸੱਭ ਕਿਵੇਂ ਹੱਲ ਹੋ...  \n",
       "8381222  <start>ਇਨ੍ਹਾਂ ਨੂੰ ਦੇਖਣ ਵਾਲੇ ਯੂਨਾਨੀਆਂ ਨੇ ਇਨ੍ਹਾਂ...  \n",
       "8381223     <start>ਇਸ ਦੋ ਨੈਟਵਰਕਸ ਤੇ ਤੁਸੀਂ ਕਰ ਸਕਦੇ ਹੋਃ<end>  \n",
       "8381224  <start>ਅਤੇ ਸਮਝ ਆਉਣ ਤੇ \"ਸਮਾਂ\" ਬੀਤ ਗਿਆ ਹੁੰਦਾ ਹੈ....  \n",
       "\n",
       "[8381225 rows x 2 columns]"
      ]
     },
     "execution_count": 8,
     "metadata": {},
     "output_type": "execute_result"
    }
   ],
   "source": [
    "df"
   ]
  },
  {
   "cell_type": "code",
   "execution_count": 9,
   "id": "2e2016cf-3864-41bf-bb22-0419898e84bd",
   "metadata": {},
   "outputs": [
    {
     "data": {
      "text/plain": [
       "True"
      ]
     },
     "execution_count": 9,
     "metadata": {},
     "output_type": "execute_result"
    }
   ],
   "source": [
    "df.duplicated().any().any()"
   ]
  },
  {
   "cell_type": "code",
   "execution_count": 10,
   "id": "bc14569e-2890-4509-989b-d6db00b1bf9e",
   "metadata": {},
   "outputs": [
    {
     "data": {
      "text/html": [
       "<div>\n",
       "<style scoped>\n",
       "    .dataframe tbody tr th:only-of-type {\n",
       "        vertical-align: middle;\n",
       "    }\n",
       "\n",
       "    .dataframe tbody tr th {\n",
       "        vertical-align: top;\n",
       "    }\n",
       "\n",
       "    .dataframe thead th {\n",
       "        text-align: right;\n",
       "    }\n",
       "</style>\n",
       "<table border=\"1\" class=\"dataframe\">\n",
       "  <thead>\n",
       "    <tr style=\"text-align: right;\">\n",
       "      <th></th>\n",
       "      <th>english</th>\n",
       "      <th>punjabi</th>\n",
       "    </tr>\n",
       "  </thead>\n",
       "  <tbody>\n",
       "    <tr>\n",
       "      <th>0</th>\n",
       "      <td>And Our Command is but a single (Act),- like t...</td>\n",
       "      <td>&lt;start&gt;(ਅਤੇ) ਸਾਡਾ (ਕਿਸੇ ਪ੍ਰਕਾਰ ਦਾ ਕੋਈ) ਗੁਣ (ਜਾ...</td>\n",
       "    </tr>\n",
       "    <tr>\n",
       "      <th>1</th>\n",
       "      <td>He will be peaceful until the day when he dies!\"</td>\n",
       "      <td>&lt;start&gt;(ਇਹ ਹਰਿ-ਨਾਮ) ਤੇਰੇ ਨਾਲ ਸਦਾ ਸਾਥ ਬਣਾਈ ਰੱਖੇ...</td>\n",
       "    </tr>\n",
       "    <tr>\n",
       "      <th>2</th>\n",
       "      <td>Behold, this is the Word that distinguishes (G...</td>\n",
       "      <td>&lt;start&gt;(ਦੁੱਖਾਂ ਕਲੇਸ਼ਾਂ ਤੋਂ) ਬਚਣ ਦਾ ਇਹੀ ਪੱਕਾ ਵਸ...</td>\n",
       "    </tr>\n",
       "    <tr>\n",
       "      <th>3</th>\n",
       "      <td>But Iblis (did it not); he refused to be with ...</td>\n",
       "      <td>&lt;start&gt;ਆਖ ਕਿ ਜਿਸ (ਜੀਵ ਇਸਤਰੀ) ਦੇ ਮੱਥੇ ਉਤੇ ਭਾਗ (...</td>\n",
       "    </tr>\n",
       "    <tr>\n",
       "      <th>4</th>\n",
       "      <td>This is the condition of those who belied Our ...</td>\n",
       "      <td>&lt;start&gt;ਪਰ ਅਜ਼ਰਾਈਲ ਨ ਸਾਰਾਂ, ਮੂਲੇ ਲੱਧੀਆਂ।&lt;end&gt;</td>\n",
       "    </tr>\n",
       "    <tr>\n",
       "      <th>...</th>\n",
       "      <td>...</td>\n",
       "      <td>...</td>\n",
       "    </tr>\n",
       "    <tr>\n",
       "      <th>8381220</th>\n",
       "      <td>Wikimedia Commons has media related to Univers...</td>\n",
       "      <td>&lt;start&gt;ਵਿਦੇਸ਼ਾਂ ਵਿਚ ਵਸਦਿਆਂ ਤਾਂ ਮੇਰੀਆਂ ਪੰਜਾਬ ਫੇ...</td>\n",
       "    </tr>\n",
       "    <tr>\n",
       "      <th>8381221</th>\n",
       "      <td>Yamaha MT-03 (naked R3) to be launched soon in...</td>\n",
       "      <td>&lt;start&gt;ਨਸੀਬ ਸੋਚੀਂ ਪੈ ਗਈ ਕਿ ਇਹ ਸੱਭ ਕਿਵੇਂ ਹੱਲ ਹੋ...</td>\n",
       "    </tr>\n",
       "    <tr>\n",
       "      <th>8381222</th>\n",
       "      <td>Yes it is a priority.</td>\n",
       "      <td>&lt;start&gt;ਇਨ੍ਹਾਂ ਨੂੰ ਦੇਖਣ ਵਾਲੇ ਯੂਨਾਨੀਆਂ ਨੇ ਇਨ੍ਹਾਂ...</td>\n",
       "    </tr>\n",
       "    <tr>\n",
       "      <th>8381223</th>\n",
       "      <td>You can also try doing a general search for th...</td>\n",
       "      <td>&lt;start&gt;ਇਸ ਦੋ ਨੈਟਵਰਕਸ ਤੇ ਤੁਸੀਂ ਕਰ ਸਕਦੇ ਹੋਃ&lt;end&gt;</td>\n",
       "    </tr>\n",
       "    <tr>\n",
       "      <th>8381224</th>\n",
       "      <td>You can unsubscribe at any time, but you can n...</td>\n",
       "      <td>&lt;start&gt;ਅਤੇ ਸਮਝ ਆਉਣ ਤੇ \"ਸਮਾਂ\" ਬੀਤ ਗਿਆ ਹੁੰਦਾ ਹੈ....</td>\n",
       "    </tr>\n",
       "  </tbody>\n",
       "</table>\n",
       "<p>8381212 rows × 2 columns</p>\n",
       "</div>"
      ],
      "text/plain": [
       "                                                   english  \\\n",
       "0        And Our Command is but a single (Act),- like t...   \n",
       "1         He will be peaceful until the day when he dies!\"   \n",
       "2        Behold, this is the Word that distinguishes (G...   \n",
       "3        But Iblis (did it not); he refused to be with ...   \n",
       "4        This is the condition of those who belied Our ...   \n",
       "...                                                    ...   \n",
       "8381220  Wikimedia Commons has media related to Univers...   \n",
       "8381221  Yamaha MT-03 (naked R3) to be launched soon in...   \n",
       "8381222                              Yes it is a priority.   \n",
       "8381223  You can also try doing a general search for th...   \n",
       "8381224  You can unsubscribe at any time, but you can n...   \n",
       "\n",
       "                                                   punjabi  \n",
       "0        <start>(ਅਤੇ) ਸਾਡਾ (ਕਿਸੇ ਪ੍ਰਕਾਰ ਦਾ ਕੋਈ) ਗੁਣ (ਜਾ...  \n",
       "1        <start>(ਇਹ ਹਰਿ-ਨਾਮ) ਤੇਰੇ ਨਾਲ ਸਦਾ ਸਾਥ ਬਣਾਈ ਰੱਖੇ...  \n",
       "2        <start>(ਦੁੱਖਾਂ ਕਲੇਸ਼ਾਂ ਤੋਂ) ਬਚਣ ਦਾ ਇਹੀ ਪੱਕਾ ਵਸ...  \n",
       "3        <start>ਆਖ ਕਿ ਜਿਸ (ਜੀਵ ਇਸਤਰੀ) ਦੇ ਮੱਥੇ ਉਤੇ ਭਾਗ (...  \n",
       "4             <start>ਪਰ ਅਜ਼ਰਾਈਲ ਨ ਸਾਰਾਂ, ਮੂਲੇ ਲੱਧੀਆਂ।<end>  \n",
       "...                                                    ...  \n",
       "8381220  <start>ਵਿਦੇਸ਼ਾਂ ਵਿਚ ਵਸਦਿਆਂ ਤਾਂ ਮੇਰੀਆਂ ਪੰਜਾਬ ਫੇ...  \n",
       "8381221  <start>ਨਸੀਬ ਸੋਚੀਂ ਪੈ ਗਈ ਕਿ ਇਹ ਸੱਭ ਕਿਵੇਂ ਹੱਲ ਹੋ...  \n",
       "8381222  <start>ਇਨ੍ਹਾਂ ਨੂੰ ਦੇਖਣ ਵਾਲੇ ਯੂਨਾਨੀਆਂ ਨੇ ਇਨ੍ਹਾਂ...  \n",
       "8381223     <start>ਇਸ ਦੋ ਨੈਟਵਰਕਸ ਤੇ ਤੁਸੀਂ ਕਰ ਸਕਦੇ ਹੋਃ<end>  \n",
       "8381224  <start>ਅਤੇ ਸਮਝ ਆਉਣ ਤੇ \"ਸਮਾਂ\" ਬੀਤ ਗਿਆ ਹੁੰਦਾ ਹੈ....  \n",
       "\n",
       "[8381212 rows x 2 columns]"
      ]
     },
     "execution_count": 10,
     "metadata": {},
     "output_type": "execute_result"
    }
   ],
   "source": [
    "df.drop_duplicates(inplace=True)\n",
    "df"
   ]
  },
  {
   "cell_type": "code",
   "execution_count": 11,
   "id": "c081f7df-57a6-4dda-96e1-2d9ed4850d48",
   "metadata": {},
   "outputs": [
    {
     "data": {
      "text/plain": [
       "(8381212, 2)"
      ]
     },
     "execution_count": 11,
     "metadata": {},
     "output_type": "execute_result"
    }
   ],
   "source": [
    "df.shape"
   ]
  },
  {
   "cell_type": "code",
   "execution_count": 12,
   "id": "abe5ab2e-4323-45d0-86fb-1ee18f7dd155",
   "metadata": {},
   "outputs": [],
   "source": [
    "df_final=df.sample(n=155000)"
   ]
  },
  {
   "cell_type": "code",
   "execution_count": 13,
   "id": "82438cb3-744b-46e3-a530-0222027e1b70",
   "metadata": {},
   "outputs": [],
   "source": [
    "x=list(df_final[\"english\"])\n",
    "y=list(df_final[\"punjabi\"])"
   ]
  },
  {
   "cell_type": "code",
   "execution_count": 22,
   "id": "38f006e1-b36d-4173-8e04-96bd1ea3394c",
   "metadata": {},
   "outputs": [],
   "source": [
    "from transformers import AutoTokenizer,TFAutoModelForTokenClassification\n",
    "tokenizer = AutoTokenizer.from_pretrained(\"ai4bharat/IndicNER\")\n",
    "model = TFAutoModelForTokenClassification.from_pretrained(\"ai4bharat/IndicNER\")"
   ]
  },
  {
   "cell_type": "code",
   "execution_count": 15,
   "id": "c87c6bea-cde3-4fa8-9b3d-50e1800626c0",
   "metadata": {},
   "outputs": [],
   "source": [
    "english_tokenizer = AutoTokenizer.from_pretrained('bert-base-uncased')"
   ]
  },
  {
   "cell_type": "code",
   "execution_count": 17,
   "id": "75712115-e591-4f8b-9722-d63d85cc1a71",
   "metadata": {},
   "outputs": [],
   "source": [
    "from sklearn.model_selection import train_test_split\n",
    "x_train,x_test,y_train,y_test=train_test_split(x,y,random_state=50,test_size=0.4)"
   ]
  },
  {
   "cell_type": "code",
   "execution_count": 18,
   "id": "6246f44e-dfcf-4244-b214-bce50be145b7",
   "metadata": {},
   "outputs": [],
   "source": [
    "x_train=english_tokenizer(x_train,padding=True,truncation=True,return_tensors=\"tf\",max_length=128)\n",
    "x_test=english_tokenizer(x_test,padding=True,truncation=True,return_tensors=\"tf\",max_length=128)"
   ]
  },
  {
   "cell_type": "code",
   "execution_count": 19,
   "id": "289964e2-5815-44cb-9788-40dc04257fc8",
   "metadata": {},
   "outputs": [],
   "source": [
    "y_train=tokenizer(y_train,padding=True,truncation=True,return_tensors=\"tf\",max_length=128)\n",
    "y_test=tokenizer(y_test,padding=True,truncation=True,return_tensors=\"tf\",max_length=128)"
   ]
  },
  {
   "cell_type": "code",
   "execution_count": 49,
   "id": "20619203-4eb8-4705-ab77-64a7b0a28ebe",
   "metadata": {},
   "outputs": [],
   "source": [
    "import tensorflow\n",
    "training_dataset=tensorflow.data.Dataset.from_tensor_slices((dict(x_train),y_train)).batch(16)\n",
    "test_dataset=tensorflow.data.Dataset.from_tensor_slices((dict(x_test),y_test)).batch(16)"
   ]
  },
  {
   "cell_type": "code",
   "execution_count": 62,
   "id": "6c06c7ae-dfee-45c6-aded-6dc3d776a6c9",
   "metadata": {},
   "outputs": [
    {
     "name": "stderr",
     "output_type": "stream",
     "text": [
      "Some weights of the PyTorch model were not used when initializing the TF 2.0 model TFBertForTokenClassification: ['bert.embeddings.position_ids']\n",
      "- This IS expected if you are initializing TFBertForTokenClassification from a PyTorch model trained on another task or with another architecture (e.g. initializing a TFBertForSequenceClassification model from a BertForPreTraining model).\n",
      "- This IS NOT expected if you are initializing TFBertForTokenClassification from a PyTorch model that you expect to be exactly identical (e.g. initializing a TFBertForSequenceClassification model from a BertForSequenceClassification model).\n",
      "All the weights of TFBertForTokenClassification were initialized from the PyTorch model.\n",
      "If your task is similar to the task the model of the checkpoint was trained on, you can already use TFBertForTokenClassification for predictions without further training.\n"
     ]
    }
   ],
   "source": [
    "model =TFAutoModelForTokenClassification.from_pretrained(\"ai4bharat/IndicNER\",from_pt=True)"
   ]
  },
  {
   "cell_type": "code",
   "execution_count": 63,
   "id": "a074fe52-6303-47d8-afa3-0c9ce806d9ff",
   "metadata": {},
   "outputs": [],
   "source": [
    "model.compile(optimizer=tensorflow.keras.optimizers.Adam(learning_rate=5e-5),\n",
    "              loss=tensorflow.keras.losses.SparseCategoricalCrossentropy(from_logits=True),\n",
    "              metrics=['accuracy'])"
   ]
  },
  {
   "cell_type": "code",
   "execution_count": 64,
   "id": "14b03188-5939-4cbb-bcb4-68d17fdc58f1",
   "metadata": {},
   "outputs": [
    {
     "name": "stdout",
     "output_type": "stream",
     "text": [
      "Model: \"tf_bert_for_token_classification_3\"\n",
      "_________________________________________________________________\n",
      " Layer (type)                Output Shape              Param #   \n",
      "=================================================================\n",
      " bert (TFBertMainLayer)      multiple                  166765824 \n",
      "                                                                 \n",
      " dropout_151 (Dropout)       multiple                  0         \n",
      "                                                                 \n",
      " classifier (Dense)          multiple                  5383      \n",
      "                                                                 \n",
      "=================================================================\n",
      "Total params: 166771207 (636.18 MB)\n",
      "Trainable params: 166771207 (636.18 MB)\n",
      "Non-trainable params: 0 (0.00 Byte)\n",
      "_________________________________________________________________\n"
     ]
    }
   ],
   "source": [
    "model.summary()"
   ]
  },
  {
   "cell_type": "code",
   "execution_count": 65,
   "id": "05c4d678-f250-47f9-a83c-564b8b5803ae",
   "metadata": {},
   "outputs": [
    {
     "name": "stdout",
     "output_type": "stream",
     "text": [
      "Epoch 1/5\n"
     ]
    },
    {
     "ename": "AttributeError",
     "evalue": "in user code:\n\n    File \"C:\\Users\\Garv Khurana\\AppData\\Local\\Programs\\Python\\Python311\\Lib\\site-packages\\tf_keras\\src\\engine\\training.py\", line 1398, in train_function  *\n        return step_function(self, iterator)\n    File \"C:\\Users\\Garv Khurana\\AppData\\Local\\Programs\\Python\\Python311\\Lib\\site-packages\\tf_keras\\src\\engine\\training.py\", line 1370, in run_step  *\n        outputs = model.train_step(data)\n    File \"C:\\Users\\Garv Khurana\\AppData\\Local\\Programs\\Python\\Python311\\Lib\\site-packages\\transformers\\modeling_tf_utils.py\", line 1711, in train_step  *\n        self.compiled_metrics.update_state(y, y_pred, sample_weight)\n    File \"C:\\Users\\Garv Khurana\\AppData\\Local\\Programs\\Python\\Python311\\Lib\\site-packages\\tf_keras\\src\\engine\\compile_utils.py\", line 592, in update_state  *\n        self.build(y_pred, y_true)\n    File \"C:\\Users\\Garv Khurana\\AppData\\Local\\Programs\\Python\\Python311\\Lib\\site-packages\\tf_keras\\src\\engine\\compile_utils.py\", line 498, in build  *\n        self._metrics = tf.__internal__.nest.map_structure_up_to(\n    File \"C:\\Users\\Garv Khurana\\AppData\\Local\\Programs\\Python\\Python311\\Lib\\site-packages\\tf_keras\\src\\engine\\compile_utils.py\", line 646, in _get_metric_objects\n        return [self._get_metric_object(m, y_t, y_p) for m in metrics]\n    File \"C:\\Users\\Garv Khurana\\AppData\\Local\\Programs\\Python\\Python311\\Lib\\site-packages\\tf_keras\\src\\engine\\compile_utils.py\", line 646, in <listcomp>\n        return [self._get_metric_object(m, y_t, y_p) for m in metrics]\n    File \"C:\\Users\\Garv Khurana\\AppData\\Local\\Programs\\Python\\Python311\\Lib\\site-packages\\tf_keras\\src\\engine\\compile_utils.py\", line 667, in _get_metric_object\n        y_t_rank = len(y_t.shape.as_list())\n    File \"C:\\Users\\Garv Khurana\\AppData\\Local\\Programs\\Python\\Python311\\Lib\\site-packages\\transformers\\tokenization_utils_base.py\", line 272, in __getattr__\n        raise AttributeError\n\n    AttributeError: \n",
     "output_type": "error",
     "traceback": [
      "\u001b[1;31m---------------------------------------------------------------------------\u001b[0m",
      "\u001b[1;31mAttributeError\u001b[0m                            Traceback (most recent call last)",
      "Cell \u001b[1;32mIn[65], line 1\u001b[0m\n\u001b[1;32m----> 1\u001b[0m \u001b[43mmodel\u001b[49m\u001b[38;5;241;43m.\u001b[39;49m\u001b[43mfit\u001b[49m\u001b[43m(\u001b[49m\u001b[43mtraining_dataset\u001b[49m\u001b[43m,\u001b[49m\u001b[43mepochs\u001b[49m\u001b[38;5;241;43m=\u001b[39;49m\u001b[38;5;241;43m5\u001b[39;49m\u001b[43m)\u001b[49m\n",
      "File \u001b[1;32m~\\AppData\\Local\\Programs\\Python\\Python311\\Lib\\site-packages\\transformers\\modeling_tf_utils.py:1229\u001b[0m, in \u001b[0;36mTFPreTrainedModel.fit\u001b[1;34m(self, *args, **kwargs)\u001b[0m\n\u001b[0;32m   1226\u001b[0m \u001b[38;5;129m@functools\u001b[39m\u001b[38;5;241m.\u001b[39mwraps(keras\u001b[38;5;241m.\u001b[39mModel\u001b[38;5;241m.\u001b[39mfit)\n\u001b[0;32m   1227\u001b[0m \u001b[38;5;28;01mdef\u001b[39;00m \u001b[38;5;21mfit\u001b[39m(\u001b[38;5;28mself\u001b[39m, \u001b[38;5;241m*\u001b[39margs, \u001b[38;5;241m*\u001b[39m\u001b[38;5;241m*\u001b[39mkwargs):\n\u001b[0;32m   1228\u001b[0m     args, kwargs \u001b[38;5;241m=\u001b[39m convert_batch_encoding(\u001b[38;5;241m*\u001b[39margs, \u001b[38;5;241m*\u001b[39m\u001b[38;5;241m*\u001b[39mkwargs)\n\u001b[1;32m-> 1229\u001b[0m     \u001b[38;5;28;01mreturn\u001b[39;00m \u001b[38;5;28;43msuper\u001b[39;49m\u001b[43m(\u001b[49m\u001b[43m)\u001b[49m\u001b[38;5;241;43m.\u001b[39;49m\u001b[43mfit\u001b[49m\u001b[43m(\u001b[49m\u001b[38;5;241;43m*\u001b[39;49m\u001b[43margs\u001b[49m\u001b[43m,\u001b[49m\u001b[43m \u001b[49m\u001b[38;5;241;43m*\u001b[39;49m\u001b[38;5;241;43m*\u001b[39;49m\u001b[43mkwargs\u001b[49m\u001b[43m)\u001b[49m\n",
      "File \u001b[1;32m~\\AppData\\Local\\Programs\\Python\\Python311\\Lib\\site-packages\\tf_keras\\src\\utils\\traceback_utils.py:70\u001b[0m, in \u001b[0;36mfilter_traceback.<locals>.error_handler\u001b[1;34m(*args, **kwargs)\u001b[0m\n\u001b[0;32m     67\u001b[0m     filtered_tb \u001b[38;5;241m=\u001b[39m _process_traceback_frames(e\u001b[38;5;241m.\u001b[39m__traceback__)\n\u001b[0;32m     68\u001b[0m     \u001b[38;5;66;03m# To get the full stack trace, call:\u001b[39;00m\n\u001b[0;32m     69\u001b[0m     \u001b[38;5;66;03m# `tf.debugging.disable_traceback_filtering()`\u001b[39;00m\n\u001b[1;32m---> 70\u001b[0m     \u001b[38;5;28;01mraise\u001b[39;00m e\u001b[38;5;241m.\u001b[39mwith_traceback(filtered_tb) \u001b[38;5;28;01mfrom\u001b[39;00m \u001b[38;5;28;01mNone\u001b[39;00m\n\u001b[0;32m     71\u001b[0m \u001b[38;5;28;01mfinally\u001b[39;00m:\n\u001b[0;32m     72\u001b[0m     \u001b[38;5;28;01mdel\u001b[39;00m filtered_tb\n",
      "File \u001b[1;32mC:\\Users\\GARVKH~1\\AppData\\Local\\Temp\\__autograph_generated_filepubpmxrh.py:15\u001b[0m, in \u001b[0;36mouter_factory.<locals>.inner_factory.<locals>.tf__train_function\u001b[1;34m(iterator)\u001b[0m\n\u001b[0;32m     13\u001b[0m \u001b[38;5;28;01mtry\u001b[39;00m:\n\u001b[0;32m     14\u001b[0m     do_return \u001b[38;5;241m=\u001b[39m \u001b[38;5;28;01mTrue\u001b[39;00m\n\u001b[1;32m---> 15\u001b[0m     retval_ \u001b[38;5;241m=\u001b[39m ag__\u001b[38;5;241m.\u001b[39mconverted_call(ag__\u001b[38;5;241m.\u001b[39mld(step_function), (ag__\u001b[38;5;241m.\u001b[39mld(\u001b[38;5;28mself\u001b[39m), ag__\u001b[38;5;241m.\u001b[39mld(iterator)), \u001b[38;5;28;01mNone\u001b[39;00m, fscope)\n\u001b[0;32m     16\u001b[0m \u001b[38;5;28;01mexcept\u001b[39;00m:\n\u001b[0;32m     17\u001b[0m     do_return \u001b[38;5;241m=\u001b[39m \u001b[38;5;28;01mFalse\u001b[39;00m\n",
      "File \u001b[1;32mC:\\Users\\GARVKH~1\\AppData\\Local\\Temp\\__autograph_generated_fileylnsko4d.py:45\u001b[0m, in \u001b[0;36mouter_factory.<locals>.inner_factory.<locals>.tf__step_function\u001b[1;34m(model, iterator)\u001b[0m\n\u001b[0;32m     43\u001b[0m ag__\u001b[38;5;241m.\u001b[39mif_stmt(ag__\u001b[38;5;241m.\u001b[39mld(\u001b[38;5;28mself\u001b[39m)\u001b[38;5;241m.\u001b[39mjit_compile, if_body, else_body, get_state, set_state, (\u001b[38;5;124m'\u001b[39m\u001b[38;5;124mrun_step\u001b[39m\u001b[38;5;124m'\u001b[39m,), \u001b[38;5;241m1\u001b[39m)\n\u001b[0;32m     44\u001b[0m data \u001b[38;5;241m=\u001b[39m ag__\u001b[38;5;241m.\u001b[39mconverted_call(ag__\u001b[38;5;241m.\u001b[39mld(\u001b[38;5;28mnext\u001b[39m), (ag__\u001b[38;5;241m.\u001b[39mld(iterator),), \u001b[38;5;28;01mNone\u001b[39;00m, fscope)\n\u001b[1;32m---> 45\u001b[0m outputs \u001b[38;5;241m=\u001b[39m \u001b[43mag__\u001b[49m\u001b[38;5;241;43m.\u001b[39;49m\u001b[43mconverted_call\u001b[49m\u001b[43m(\u001b[49m\u001b[43mag__\u001b[49m\u001b[38;5;241;43m.\u001b[39;49m\u001b[43mld\u001b[49m\u001b[43m(\u001b[49m\u001b[43mmodel\u001b[49m\u001b[43m)\u001b[49m\u001b[38;5;241;43m.\u001b[39;49m\u001b[43mdistribute_strategy\u001b[49m\u001b[38;5;241;43m.\u001b[39;49m\u001b[43mrun\u001b[49m\u001b[43m,\u001b[49m\u001b[43m \u001b[49m\u001b[43m(\u001b[49m\u001b[43mag__\u001b[49m\u001b[38;5;241;43m.\u001b[39;49m\u001b[43mld\u001b[49m\u001b[43m(\u001b[49m\u001b[43mrun_step\u001b[49m\u001b[43m)\u001b[49m\u001b[43m,\u001b[49m\u001b[43m)\u001b[49m\u001b[43m,\u001b[49m\u001b[43m \u001b[49m\u001b[38;5;28;43mdict\u001b[39;49m\u001b[43m(\u001b[49m\u001b[43margs\u001b[49m\u001b[38;5;241;43m=\u001b[39;49m\u001b[43m(\u001b[49m\u001b[43mag__\u001b[49m\u001b[38;5;241;43m.\u001b[39;49m\u001b[43mld\u001b[49m\u001b[43m(\u001b[49m\u001b[43mdata\u001b[49m\u001b[43m)\u001b[49m\u001b[43m,\u001b[49m\u001b[43m)\u001b[49m\u001b[43m)\u001b[49m\u001b[43m,\u001b[49m\u001b[43m \u001b[49m\u001b[43mfscope\u001b[49m\u001b[43m)\u001b[49m\n\u001b[0;32m     46\u001b[0m outputs \u001b[38;5;241m=\u001b[39m ag__\u001b[38;5;241m.\u001b[39mconverted_call(ag__\u001b[38;5;241m.\u001b[39mld(reduce_per_replica), (ag__\u001b[38;5;241m.\u001b[39mld(outputs), ag__\u001b[38;5;241m.\u001b[39mld(\u001b[38;5;28mself\u001b[39m)\u001b[38;5;241m.\u001b[39mdistribute_strategy), \u001b[38;5;28mdict\u001b[39m(reduction\u001b[38;5;241m=\u001b[39mag__\u001b[38;5;241m.\u001b[39mld(\u001b[38;5;28mself\u001b[39m)\u001b[38;5;241m.\u001b[39mdistribute_reduction_method), fscope)\n\u001b[0;32m     47\u001b[0m \u001b[38;5;28;01mtry\u001b[39;00m:\n",
      "File \u001b[1;32mC:\\Users\\GARVKH~1\\AppData\\Local\\Temp\\__autograph_generated_fileylnsko4d.py:18\u001b[0m, in \u001b[0;36mouter_factory.<locals>.inner_factory.<locals>.tf__step_function.<locals>.run_step\u001b[1;34m(data)\u001b[0m\n\u001b[0;32m     16\u001b[0m do_return_1 \u001b[38;5;241m=\u001b[39m \u001b[38;5;28;01mFalse\u001b[39;00m\n\u001b[0;32m     17\u001b[0m retval__1 \u001b[38;5;241m=\u001b[39m ag__\u001b[38;5;241m.\u001b[39mUndefinedReturnValue()\n\u001b[1;32m---> 18\u001b[0m outputs \u001b[38;5;241m=\u001b[39m \u001b[43mag__\u001b[49m\u001b[38;5;241;43m.\u001b[39;49m\u001b[43mconverted_call\u001b[49m\u001b[43m(\u001b[49m\u001b[43mag__\u001b[49m\u001b[38;5;241;43m.\u001b[39;49m\u001b[43mld\u001b[49m\u001b[43m(\u001b[49m\u001b[43mmodel\u001b[49m\u001b[43m)\u001b[49m\u001b[38;5;241;43m.\u001b[39;49m\u001b[43mtrain_step\u001b[49m\u001b[43m,\u001b[49m\u001b[43m \u001b[49m\u001b[43m(\u001b[49m\u001b[43mag__\u001b[49m\u001b[38;5;241;43m.\u001b[39;49m\u001b[43mld\u001b[49m\u001b[43m(\u001b[49m\u001b[43mdata\u001b[49m\u001b[43m)\u001b[49m\u001b[43m,\u001b[49m\u001b[43m)\u001b[49m\u001b[43m,\u001b[49m\u001b[43m \u001b[49m\u001b[38;5;28;43;01mNone\u001b[39;49;00m\u001b[43m,\u001b[49m\u001b[43m \u001b[49m\u001b[43mfscope_1\u001b[49m\u001b[43m)\u001b[49m\n\u001b[0;32m     19\u001b[0m \u001b[38;5;28;01mwith\u001b[39;00m ag__\u001b[38;5;241m.\u001b[39mld(tf)\u001b[38;5;241m.\u001b[39mcontrol_dependencies(ag__\u001b[38;5;241m.\u001b[39mld(_minimum_control_deps)(ag__\u001b[38;5;241m.\u001b[39mld(outputs))):\n\u001b[0;32m     20\u001b[0m     ag__\u001b[38;5;241m.\u001b[39mconverted_call(ag__\u001b[38;5;241m.\u001b[39mld(model)\u001b[38;5;241m.\u001b[39m_train_counter\u001b[38;5;241m.\u001b[39massign_add, (\u001b[38;5;241m1\u001b[39m,), \u001b[38;5;28;01mNone\u001b[39;00m, fscope_1)\n",
      "File \u001b[1;32mC:\\Users\\GARVKH~1\\AppData\\Local\\Temp\\__autograph_generated_file77y9de2o.py:411\u001b[0m, in \u001b[0;36mouter_factory.<locals>.inner_factory.<locals>.tf__train_step\u001b[1;34m(self, data)\u001b[0m\n\u001b[0;32m    409\u001b[0m     ag__\u001b[38;5;241m.\u001b[39mif_stmt(ag__\u001b[38;5;241m.\u001b[39mld(loss) \u001b[38;5;129;01mis\u001b[39;00m \u001b[38;5;28;01mNone\u001b[39;00m, if_body_23, else_body_23, get_state_24, set_state_24, (\u001b[38;5;124m'\u001b[39m\u001b[38;5;124mloss\u001b[39m\u001b[38;5;124m'\u001b[39m,), \u001b[38;5;241m1\u001b[39m)\n\u001b[0;32m    410\u001b[0m ag__\u001b[38;5;241m.\u001b[39mconverted_call(ag__\u001b[38;5;241m.\u001b[39mld(\u001b[38;5;28mself\u001b[39m)\u001b[38;5;241m.\u001b[39moptimizer\u001b[38;5;241m.\u001b[39mminimize, (ag__\u001b[38;5;241m.\u001b[39mld(loss), ag__\u001b[38;5;241m.\u001b[39mld(\u001b[38;5;28mself\u001b[39m)\u001b[38;5;241m.\u001b[39mtrainable_variables), \u001b[38;5;28mdict\u001b[39m(tape\u001b[38;5;241m=\u001b[39mag__\u001b[38;5;241m.\u001b[39mld(tape)), fscope)\n\u001b[1;32m--> 411\u001b[0m \u001b[43mag__\u001b[49m\u001b[38;5;241;43m.\u001b[39;49m\u001b[43mconverted_call\u001b[49m\u001b[43m(\u001b[49m\u001b[43mag__\u001b[49m\u001b[38;5;241;43m.\u001b[39;49m\u001b[43mld\u001b[49m\u001b[43m(\u001b[49m\u001b[38;5;28;43mself\u001b[39;49m\u001b[43m)\u001b[49m\u001b[38;5;241;43m.\u001b[39;49m\u001b[43mcompiled_metrics\u001b[49m\u001b[38;5;241;43m.\u001b[39;49m\u001b[43mupdate_state\u001b[49m\u001b[43m,\u001b[49m\u001b[43m \u001b[49m\u001b[43m(\u001b[49m\u001b[43mag__\u001b[49m\u001b[38;5;241;43m.\u001b[39;49m\u001b[43mld\u001b[49m\u001b[43m(\u001b[49m\u001b[43my\u001b[49m\u001b[43m)\u001b[49m\u001b[43m,\u001b[49m\u001b[43m \u001b[49m\u001b[43mag__\u001b[49m\u001b[38;5;241;43m.\u001b[39;49m\u001b[43mld\u001b[49m\u001b[43m(\u001b[49m\u001b[43my_pred\u001b[49m\u001b[43m)\u001b[49m\u001b[43m,\u001b[49m\u001b[43m \u001b[49m\u001b[43mag__\u001b[49m\u001b[38;5;241;43m.\u001b[39;49m\u001b[43mld\u001b[49m\u001b[43m(\u001b[49m\u001b[43msample_weight\u001b[49m\u001b[43m)\u001b[49m\u001b[43m)\u001b[49m\u001b[43m,\u001b[49m\u001b[43m \u001b[49m\u001b[38;5;28;43;01mNone\u001b[39;49;00m\u001b[43m,\u001b[49m\u001b[43m \u001b[49m\u001b[43mfscope\u001b[49m\u001b[43m)\u001b[49m\n\u001b[0;32m    412\u001b[0m return_metrics \u001b[38;5;241m=\u001b[39m {}\n\u001b[0;32m    414\u001b[0m \u001b[38;5;28;01mdef\u001b[39;00m \u001b[38;5;21mget_state_26\u001b[39m():\n",
      "File \u001b[1;32mC:\\Users\\GARVKH~1\\AppData\\Local\\Temp\\__autograph_generated_file8dpjzq49.py:23\u001b[0m, in \u001b[0;36mouter_factory.<locals>.inner_factory.<locals>.tf__update_state\u001b[1;34m(self, y_true, y_pred, sample_weight)\u001b[0m\n\u001b[0;32m     21\u001b[0m \u001b[38;5;28;01mdef\u001b[39;00m \u001b[38;5;21melse_body\u001b[39m():\n\u001b[0;32m     22\u001b[0m     \u001b[38;5;28;01mpass\u001b[39;00m\n\u001b[1;32m---> 23\u001b[0m \u001b[43mag__\u001b[49m\u001b[38;5;241;43m.\u001b[39;49m\u001b[43mif_stmt\u001b[49m\u001b[43m(\u001b[49m\u001b[43mag__\u001b[49m\u001b[38;5;241;43m.\u001b[39;49m\u001b[43mnot_\u001b[49m\u001b[43m(\u001b[49m\u001b[43mag__\u001b[49m\u001b[38;5;241;43m.\u001b[39;49m\u001b[43mld\u001b[49m\u001b[43m(\u001b[49m\u001b[38;5;28;43mself\u001b[39;49m\u001b[43m)\u001b[49m\u001b[38;5;241;43m.\u001b[39;49m\u001b[43m_built\u001b[49m\u001b[43m)\u001b[49m\u001b[43m,\u001b[49m\u001b[43m \u001b[49m\u001b[43mif_body\u001b[49m\u001b[43m,\u001b[49m\u001b[43m \u001b[49m\u001b[43melse_body\u001b[49m\u001b[43m,\u001b[49m\u001b[43m \u001b[49m\u001b[43mget_state\u001b[49m\u001b[43m,\u001b[49m\u001b[43m \u001b[49m\u001b[43mset_state\u001b[49m\u001b[43m,\u001b[49m\u001b[43m \u001b[49m\u001b[43m(\u001b[49m\u001b[43m)\u001b[49m\u001b[43m,\u001b[49m\u001b[43m \u001b[49m\u001b[38;5;241;43m0\u001b[39;49m\u001b[43m)\u001b[49m\n\u001b[0;32m     24\u001b[0m y_pred \u001b[38;5;241m=\u001b[39m ag__\u001b[38;5;241m.\u001b[39mconverted_call(ag__\u001b[38;5;241m.\u001b[39mld(tf)\u001b[38;5;241m.\u001b[39mnest\u001b[38;5;241m.\u001b[39mflatten, (ag__\u001b[38;5;241m.\u001b[39mld(y_pred),), \u001b[38;5;28;01mNone\u001b[39;00m, fscope)\n\u001b[0;32m     25\u001b[0m y_true \u001b[38;5;241m=\u001b[39m ag__\u001b[38;5;241m.\u001b[39mif_exp(ag__\u001b[38;5;241m.\u001b[39mld(y_true) \u001b[38;5;129;01mis\u001b[39;00m \u001b[38;5;129;01mnot\u001b[39;00m \u001b[38;5;28;01mNone\u001b[39;00m, \u001b[38;5;28;01mlambda\u001b[39;00m: ag__\u001b[38;5;241m.\u001b[39mconverted_call(ag__\u001b[38;5;241m.\u001b[39mld(tf)\u001b[38;5;241m.\u001b[39mnest\u001b[38;5;241m.\u001b[39mflatten, (ag__\u001b[38;5;241m.\u001b[39mld(y_true),), \u001b[38;5;28;01mNone\u001b[39;00m, fscope), \u001b[38;5;28;01mlambda\u001b[39;00m: [], \u001b[38;5;124m'\u001b[39m\u001b[38;5;124my_true is not None\u001b[39m\u001b[38;5;124m'\u001b[39m)\n",
      "File \u001b[1;32mC:\\Users\\GARVKH~1\\AppData\\Local\\Temp\\__autograph_generated_file8dpjzq49.py:19\u001b[0m, in \u001b[0;36mouter_factory.<locals>.inner_factory.<locals>.tf__update_state.<locals>.if_body\u001b[1;34m()\u001b[0m\n\u001b[0;32m     18\u001b[0m \u001b[38;5;28;01mdef\u001b[39;00m \u001b[38;5;21mif_body\u001b[39m():\n\u001b[1;32m---> 19\u001b[0m     \u001b[43mag__\u001b[49m\u001b[38;5;241;43m.\u001b[39;49m\u001b[43mconverted_call\u001b[49m\u001b[43m(\u001b[49m\u001b[43mag__\u001b[49m\u001b[38;5;241;43m.\u001b[39;49m\u001b[43mld\u001b[49m\u001b[43m(\u001b[49m\u001b[38;5;28;43mself\u001b[39;49m\u001b[43m)\u001b[49m\u001b[38;5;241;43m.\u001b[39;49m\u001b[43mbuild\u001b[49m\u001b[43m,\u001b[49m\u001b[43m \u001b[49m\u001b[43m(\u001b[49m\u001b[43mag__\u001b[49m\u001b[38;5;241;43m.\u001b[39;49m\u001b[43mld\u001b[49m\u001b[43m(\u001b[49m\u001b[43my_pred\u001b[49m\u001b[43m)\u001b[49m\u001b[43m,\u001b[49m\u001b[43m \u001b[49m\u001b[43mag__\u001b[49m\u001b[38;5;241;43m.\u001b[39;49m\u001b[43mld\u001b[49m\u001b[43m(\u001b[49m\u001b[43my_true\u001b[49m\u001b[43m)\u001b[49m\u001b[43m)\u001b[49m\u001b[43m,\u001b[49m\u001b[43m \u001b[49m\u001b[38;5;28;43;01mNone\u001b[39;49;00m\u001b[43m,\u001b[49m\u001b[43m \u001b[49m\u001b[43mfscope\u001b[49m\u001b[43m)\u001b[49m\n",
      "File \u001b[1;32mC:\\Users\\GARVKH~1\\AppData\\Local\\Temp\\__autograph_generated_file7jxlzmna.py:19\u001b[0m, in \u001b[0;36mouter_factory.<locals>.inner_factory.<locals>.tf__build\u001b[1;34m(self, y_pred, y_true)\u001b[0m\n\u001b[0;32m     17\u001b[0m ag__\u001b[38;5;241m.\u001b[39mld(\u001b[38;5;28mself\u001b[39m)\u001b[38;5;241m.\u001b[39m_metrics \u001b[38;5;241m=\u001b[39m ag__\u001b[38;5;241m.\u001b[39mconverted_call(ag__\u001b[38;5;241m.\u001b[39mld(tf)\u001b[38;5;241m.\u001b[39m__internal__\u001b[38;5;241m.\u001b[39mnest\u001b[38;5;241m.\u001b[39mlist_to_tuple, (ag__\u001b[38;5;241m.\u001b[39mld(\u001b[38;5;28mself\u001b[39m)\u001b[38;5;241m.\u001b[39m_metrics,), \u001b[38;5;28;01mNone\u001b[39;00m, fscope)\n\u001b[0;32m     18\u001b[0m ag__\u001b[38;5;241m.\u001b[39mld(\u001b[38;5;28mself\u001b[39m)\u001b[38;5;241m.\u001b[39m_weighted_metrics \u001b[38;5;241m=\u001b[39m ag__\u001b[38;5;241m.\u001b[39mconverted_call(ag__\u001b[38;5;241m.\u001b[39mld(tf)\u001b[38;5;241m.\u001b[39m__internal__\u001b[38;5;241m.\u001b[39mnest\u001b[38;5;241m.\u001b[39mlist_to_tuple, (ag__\u001b[38;5;241m.\u001b[39mld(\u001b[38;5;28mself\u001b[39m)\u001b[38;5;241m.\u001b[39m_weighted_metrics,), \u001b[38;5;28;01mNone\u001b[39;00m, fscope)\n\u001b[1;32m---> 19\u001b[0m ag__\u001b[38;5;241m.\u001b[39mld(\u001b[38;5;28mself\u001b[39m)\u001b[38;5;241m.\u001b[39m_metrics \u001b[38;5;241m=\u001b[39m \u001b[43mag__\u001b[49m\u001b[38;5;241;43m.\u001b[39;49m\u001b[43mconverted_call\u001b[49m\u001b[43m(\u001b[49m\u001b[43mag__\u001b[49m\u001b[38;5;241;43m.\u001b[39;49m\u001b[43mld\u001b[49m\u001b[43m(\u001b[49m\u001b[43mtf\u001b[49m\u001b[43m)\u001b[49m\u001b[38;5;241;43m.\u001b[39;49m\u001b[43m__internal__\u001b[49m\u001b[38;5;241;43m.\u001b[39;49m\u001b[43mnest\u001b[49m\u001b[38;5;241;43m.\u001b[39;49m\u001b[43mmap_structure_up_to\u001b[49m\u001b[43m,\u001b[49m\u001b[43m \u001b[49m\u001b[43m(\u001b[49m\u001b[43mag__\u001b[49m\u001b[38;5;241;43m.\u001b[39;49m\u001b[43mld\u001b[49m\u001b[43m(\u001b[49m\u001b[43my_pred\u001b[49m\u001b[43m)\u001b[49m\u001b[43m,\u001b[49m\u001b[43m \u001b[49m\u001b[43mag__\u001b[49m\u001b[38;5;241;43m.\u001b[39;49m\u001b[43mld\u001b[49m\u001b[43m(\u001b[49m\u001b[38;5;28;43mself\u001b[39;49m\u001b[43m)\u001b[49m\u001b[38;5;241;43m.\u001b[39;49m\u001b[43m_get_metric_objects\u001b[49m\u001b[43m,\u001b[49m\u001b[43m \u001b[49m\u001b[43mag__\u001b[49m\u001b[38;5;241;43m.\u001b[39;49m\u001b[43mld\u001b[49m\u001b[43m(\u001b[49m\u001b[38;5;28;43mself\u001b[39;49m\u001b[43m)\u001b[49m\u001b[38;5;241;43m.\u001b[39;49m\u001b[43m_metrics\u001b[49m\u001b[43m,\u001b[49m\u001b[43m \u001b[49m\u001b[43mag__\u001b[49m\u001b[38;5;241;43m.\u001b[39;49m\u001b[43mld\u001b[49m\u001b[43m(\u001b[49m\u001b[43my_true\u001b[49m\u001b[43m)\u001b[49m\u001b[43m,\u001b[49m\u001b[43m \u001b[49m\u001b[43mag__\u001b[49m\u001b[38;5;241;43m.\u001b[39;49m\u001b[43mld\u001b[49m\u001b[43m(\u001b[49m\u001b[43my_pred\u001b[49m\u001b[43m)\u001b[49m\u001b[43m)\u001b[49m\u001b[43m,\u001b[49m\u001b[43m \u001b[49m\u001b[38;5;28;43;01mNone\u001b[39;49;00m\u001b[43m,\u001b[49m\u001b[43m \u001b[49m\u001b[43mfscope\u001b[49m\u001b[43m)\u001b[49m\n\u001b[0;32m     20\u001b[0m ag__\u001b[38;5;241m.\u001b[39mld(\u001b[38;5;28mself\u001b[39m)\u001b[38;5;241m.\u001b[39m_weighted_metrics \u001b[38;5;241m=\u001b[39m ag__\u001b[38;5;241m.\u001b[39mconverted_call(ag__\u001b[38;5;241m.\u001b[39mld(tf)\u001b[38;5;241m.\u001b[39m__internal__\u001b[38;5;241m.\u001b[39mnest\u001b[38;5;241m.\u001b[39mmap_structure_up_to, (ag__\u001b[38;5;241m.\u001b[39mld(y_pred), ag__\u001b[38;5;241m.\u001b[39mld(\u001b[38;5;28mself\u001b[39m)\u001b[38;5;241m.\u001b[39m_get_metric_objects, ag__\u001b[38;5;241m.\u001b[39mld(\u001b[38;5;28mself\u001b[39m)\u001b[38;5;241m.\u001b[39m_weighted_metrics, ag__\u001b[38;5;241m.\u001b[39mld(y_true), ag__\u001b[38;5;241m.\u001b[39mld(y_pred)), \u001b[38;5;28;01mNone\u001b[39;00m, fscope)\n\u001b[0;32m     21\u001b[0m ag__\u001b[38;5;241m.\u001b[39mld(\u001b[38;5;28mself\u001b[39m)\u001b[38;5;241m.\u001b[39m_metrics \u001b[38;5;241m=\u001b[39m ag__\u001b[38;5;241m.\u001b[39mconverted_call(ag__\u001b[38;5;241m.\u001b[39mld(tf)\u001b[38;5;241m.\u001b[39m__internal__\u001b[38;5;241m.\u001b[39mnest\u001b[38;5;241m.\u001b[39mflatten_up_to, (ag__\u001b[38;5;241m.\u001b[39mld(y_pred), ag__\u001b[38;5;241m.\u001b[39mld(\u001b[38;5;28mself\u001b[39m)\u001b[38;5;241m.\u001b[39m_metrics), \u001b[38;5;28mdict\u001b[39m(check_types\u001b[38;5;241m=\u001b[39m\u001b[38;5;28;01mFalse\u001b[39;00m), fscope)\n",
      "File \u001b[1;32m~\\AppData\\Local\\Programs\\Python\\Python311\\Lib\\site-packages\\transformers\\tokenization_utils_base.py:272\u001b[0m, in \u001b[0;36mBatchEncoding.__getattr__\u001b[1;34m(self, item)\u001b[0m\n\u001b[0;32m    270\u001b[0m     \u001b[38;5;28;01mreturn\u001b[39;00m \u001b[38;5;28mself\u001b[39m\u001b[38;5;241m.\u001b[39mdata[item]\n\u001b[0;32m    271\u001b[0m \u001b[38;5;28;01mexcept\u001b[39;00m \u001b[38;5;167;01mKeyError\u001b[39;00m:\n\u001b[1;32m--> 272\u001b[0m     \u001b[38;5;28;01mraise\u001b[39;00m \u001b[38;5;167;01mAttributeError\u001b[39;00m\n",
      "\u001b[1;31mAttributeError\u001b[0m: in user code:\n\n    File \"C:\\Users\\Garv Khurana\\AppData\\Local\\Programs\\Python\\Python311\\Lib\\site-packages\\tf_keras\\src\\engine\\training.py\", line 1398, in train_function  *\n        return step_function(self, iterator)\n    File \"C:\\Users\\Garv Khurana\\AppData\\Local\\Programs\\Python\\Python311\\Lib\\site-packages\\tf_keras\\src\\engine\\training.py\", line 1370, in run_step  *\n        outputs = model.train_step(data)\n    File \"C:\\Users\\Garv Khurana\\AppData\\Local\\Programs\\Python\\Python311\\Lib\\site-packages\\transformers\\modeling_tf_utils.py\", line 1711, in train_step  *\n        self.compiled_metrics.update_state(y, y_pred, sample_weight)\n    File \"C:\\Users\\Garv Khurana\\AppData\\Local\\Programs\\Python\\Python311\\Lib\\site-packages\\tf_keras\\src\\engine\\compile_utils.py\", line 592, in update_state  *\n        self.build(y_pred, y_true)\n    File \"C:\\Users\\Garv Khurana\\AppData\\Local\\Programs\\Python\\Python311\\Lib\\site-packages\\tf_keras\\src\\engine\\compile_utils.py\", line 498, in build  *\n        self._metrics = tf.__internal__.nest.map_structure_up_to(\n    File \"C:\\Users\\Garv Khurana\\AppData\\Local\\Programs\\Python\\Python311\\Lib\\site-packages\\tf_keras\\src\\engine\\compile_utils.py\", line 646, in _get_metric_objects\n        return [self._get_metric_object(m, y_t, y_p) for m in metrics]\n    File \"C:\\Users\\Garv Khurana\\AppData\\Local\\Programs\\Python\\Python311\\Lib\\site-packages\\tf_keras\\src\\engine\\compile_utils.py\", line 646, in <listcomp>\n        return [self._get_metric_object(m, y_t, y_p) for m in metrics]\n    File \"C:\\Users\\Garv Khurana\\AppData\\Local\\Programs\\Python\\Python311\\Lib\\site-packages\\tf_keras\\src\\engine\\compile_utils.py\", line 667, in _get_metric_object\n        y_t_rank = len(y_t.shape.as_list())\n    File \"C:\\Users\\Garv Khurana\\AppData\\Local\\Programs\\Python\\Python311\\Lib\\site-packages\\transformers\\tokenization_utils_base.py\", line 272, in __getattr__\n        raise AttributeError\n\n    AttributeError: \n"
     ]
    }
   ],
   "source": [
    "model.fit(training_dataset,epochs=5)"
   ]
  },
  {
   "cell_type": "code",
   "execution_count": null,
   "id": "668ec895-c136-4116-a278-33e32c69b26c",
   "metadata": {},
   "outputs": [],
   "source": []
  }
 ],
 "metadata": {
  "kernelspec": {
   "display_name": "Python 3 (ipykernel)",
   "language": "python",
   "name": "python3"
  },
  "language_info": {
   "codemirror_mode": {
    "name": "ipython",
    "version": 3
   },
   "file_extension": ".py",
   "mimetype": "text/x-python",
   "name": "python",
   "nbconvert_exporter": "python",
   "pygments_lexer": "ipython3",
   "version": "3.11.5"
  }
 },
 "nbformat": 4,
 "nbformat_minor": 5
}
